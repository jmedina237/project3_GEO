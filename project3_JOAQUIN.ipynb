{
 "cells": [
  {
   "cell_type": "code",
   "execution_count": 161,
   "id": "c9d2613e",
   "metadata": {},
   "outputs": [],
   "source": [
    "import pandas as pd\n",
    "from pandas import json_normalize\n",
    "\n",
    "import requests \n",
    "import json\n",
    "import os\n",
    "from dotenv import load_dotenv\n",
    "\n",
    "from pymongo import MongoClient\n",
    "import pandas as pd\n",
    "\n",
    "\n",
    "import src.haversine_function as distance\n",
    "import src.nearby_function as nearby\n",
    "\n"
   ]
  },
  {
   "cell_type": "code",
   "execution_count": 219,
   "id": "a90a3ef0",
   "metadata": {},
   "outputs": [],
   "source": [
    "client = MongoClient(\"localhost:27017\")\n",
    "db = client[\"ironhack\"]\n",
    "c = db.get_collection(\"Crunchbase\")"
   ]
  },
  {
   "cell_type": "code",
   "execution_count": 220,
   "id": "e3368d7c",
   "metadata": {},
   "outputs": [],
   "source": [
    "# filter with regex \"desing\", 'total_money_raised', \"offices[0].country_code\""
   ]
  },
  {
   "cell_type": "code",
   "execution_count": 282,
   "id": "d01cc999",
   "metadata": {},
   "outputs": [],
   "source": [
    "#DESIGN or tech companies nearby\n",
    "filter_10 = {\"description\": {\"$regex\": \"design\"}}\n",
    "filter_11 = {\"description\": {\"$regex\": \"technology\"}}\n",
    "filter_12 = {\"description\": {\"$regex\": \"software\"}}\n",
    "\n",
    "filter_2 = {\"tag_list\": {\"$regex\": \"design\"}}\n",
    "\n",
    "filter_3 = {\"name\": {\"$regex\": \"design\"}}\n",
    "\n",
    "filter_40 = {\"category_code\": {\"$regex\": \"design\"}}\n",
    "filter_41 = {\"category_code\": {\"$regex\": \"games_video\"}}\n",
    "filter_42 = {\"category_code\": {\"$regex\": \"web\"}}\n",
    "filter_43 = {\"category_code\": {\"$regex\": \"mobile\"}}\n",
    "filter_44 = {\"category_code\": {\"$regex\": \"photo_video\"}}\n",
    "\n",
    "#Near to SUCCESSFUL tech startups\n",
    "filter_50 = {\"total_money_raised\": {\"$regex\": \"M\"}}\n",
    "filter_51 = {\"total_money_raised\": {\"$regex\": \"B\"}}\n",
    "filter_52 = {\"total_money_raised\": {\"$regex\": \"^k\"}}\n",
    "filter_53 = {\"total_money_raised\":{ \"$not\": {\"$regex\": \"/$0/\"}}}\n",
    "\n",
    "\n",
    "\n",
    "\n",
    "all_conditions = [filter_10, filter_11, filter_12, filter_2, filter_3, filter_40, \n",
    "                  filter_41, filter_42, filter_43, filter_44, filter_50, filter_51, filter_52, filter_53]"
   ]
  },
  {
   "cell_type": "code",
   "execution_count": 283,
   "id": "8d880724",
   "metadata": {},
   "outputs": [
    {
     "ename": "SyntaxError",
     "evalue": "':' expected after dictionary key (628422675.py, line 10)",
     "output_type": "error",
     "traceback": [
      "\u001b[1;36m  Input \u001b[1;32mIn [283]\u001b[1;36m\u001b[0m\n\u001b[1;33m    result = list(c.find({\"$or\": all_conditions, filter_6}, projection))\u001b[0m\n\u001b[1;37m                                                        ^\u001b[0m\n\u001b[1;31mSyntaxError\u001b[0m\u001b[1;31m:\u001b[0m ':' expected after dictionary key\n"
     ]
    }
   ],
   "source": [
    "projection = {\"name\": 1, \n",
    "              \"number_of_employees\": 1,\n",
    "              \"total_money_raised\": 1,\n",
    "              \"offices.country_code\": 1,\n",
    "              \"offices.city\": 1,\n",
    "              \"offices.latitude\": 1,\n",
    "              \"offices.longitude\": 1,\n",
    "              \"_id\":0}\n",
    "\n",
    "result = list(c.find({\"$or\": all_conditions,\n",
    "                      \n",
    "                \"number_of_employees\": {\"$lte\": 150 } # STARTUP\n",
    "                     \n",
    "                     }, projection))\n",
    "\n",
    "df = pd.DataFrame(result)"
   ]
  },
  {
   "cell_type": "code",
   "execution_count": 223,
   "id": "a5b91234",
   "metadata": {
    "scrolled": true
   },
   "outputs": [
    {
     "data": {
      "text/html": [
       "<div>\n",
       "<style scoped>\n",
       "    .dataframe tbody tr th:only-of-type {\n",
       "        vertical-align: middle;\n",
       "    }\n",
       "\n",
       "    .dataframe tbody tr th {\n",
       "        vertical-align: top;\n",
       "    }\n",
       "\n",
       "    .dataframe thead th {\n",
       "        text-align: right;\n",
       "    }\n",
       "</style>\n",
       "<table border=\"1\" class=\"dataframe\">\n",
       "  <thead>\n",
       "    <tr style=\"text-align: right;\">\n",
       "      <th></th>\n",
       "      <th>name</th>\n",
       "      <th>number_of_employees</th>\n",
       "      <th>total_money_raised</th>\n",
       "      <th>offices</th>\n",
       "    </tr>\n",
       "  </thead>\n",
       "  <tbody>\n",
       "    <tr>\n",
       "      <th>0</th>\n",
       "      <td>Wetpaint</td>\n",
       "      <td>47</td>\n",
       "      <td>$39.8M</td>\n",
       "      <td>[{'city': 'Seattle', 'country_code': 'USA', 'l...</td>\n",
       "    </tr>\n",
       "    <tr>\n",
       "      <th>1</th>\n",
       "      <td>Digg</td>\n",
       "      <td>60</td>\n",
       "      <td>$45M</td>\n",
       "      <td>[{'city': 'San Francisco', 'country_code': 'US...</td>\n",
       "    </tr>\n",
       "    <tr>\n",
       "      <th>2</th>\n",
       "      <td>Geni</td>\n",
       "      <td>18</td>\n",
       "      <td>$16.5M</td>\n",
       "      <td>[{'city': 'West Hollywood', 'country_code': 'U...</td>\n",
       "    </tr>\n",
       "    <tr>\n",
       "      <th>3</th>\n",
       "      <td>Fox Interactive Media</td>\n",
       "      <td>0</td>\n",
       "      <td>$0</td>\n",
       "      <td>[{'city': 'Beverly Hills', 'country_code': 'US...</td>\n",
       "    </tr>\n",
       "    <tr>\n",
       "      <th>4</th>\n",
       "      <td>Scribd</td>\n",
       "      <td>50</td>\n",
       "      <td>$25.8M</td>\n",
       "      <td>[{'city': 'San Francisco', 'country_code': 'US...</td>\n",
       "    </tr>\n",
       "    <tr>\n",
       "      <th>...</th>\n",
       "      <td>...</td>\n",
       "      <td>...</td>\n",
       "      <td>...</td>\n",
       "      <td>...</td>\n",
       "    </tr>\n",
       "    <tr>\n",
       "      <th>8130</th>\n",
       "      <td>OfficialVirtualDJ</td>\n",
       "      <td>102</td>\n",
       "      <td>€25M</td>\n",
       "      <td>[{'city': 'London', 'country_code': 'GBR', 'la...</td>\n",
       "    </tr>\n",
       "    <tr>\n",
       "      <th>8131</th>\n",
       "      <td>Eazeeloans</td>\n",
       "      <td>25</td>\n",
       "      <td>$0</td>\n",
       "      <td>[{'city': 'Mumbai', 'country_code': 'IND', 'la...</td>\n",
       "    </tr>\n",
       "    <tr>\n",
       "      <th>8132</th>\n",
       "      <td>DocASAP</td>\n",
       "      <td>7</td>\n",
       "      <td>$800k</td>\n",
       "      <td>[{'city': 'New York', 'country_code': 'USA', '...</td>\n",
       "    </tr>\n",
       "    <tr>\n",
       "      <th>8133</th>\n",
       "      <td>cotralis</td>\n",
       "      <td>1</td>\n",
       "      <td>$0</td>\n",
       "      <td>[]</td>\n",
       "    </tr>\n",
       "    <tr>\n",
       "      <th>8134</th>\n",
       "      <td>Adhunk</td>\n",
       "      <td>3</td>\n",
       "      <td>$0</td>\n",
       "      <td>[{'city': 'Bikaner', 'country_code': 'IND', 'l...</td>\n",
       "    </tr>\n",
       "  </tbody>\n",
       "</table>\n",
       "<p>8135 rows × 4 columns</p>\n",
       "</div>"
      ],
      "text/plain": [
       "                       name  number_of_employees total_money_raised  \\\n",
       "0                  Wetpaint                   47             $39.8M   \n",
       "1                      Digg                   60               $45M   \n",
       "2                      Geni                   18             $16.5M   \n",
       "3     Fox Interactive Media                    0                 $0   \n",
       "4                    Scribd                   50             $25.8M   \n",
       "...                     ...                  ...                ...   \n",
       "8130      OfficialVirtualDJ                  102               €25M   \n",
       "8131             Eazeeloans                   25                 $0   \n",
       "8132                DocASAP                    7              $800k   \n",
       "8133               cotralis                    1                 $0   \n",
       "8134                 Adhunk                    3                 $0   \n",
       "\n",
       "                                                offices  \n",
       "0     [{'city': 'Seattle', 'country_code': 'USA', 'l...  \n",
       "1     [{'city': 'San Francisco', 'country_code': 'US...  \n",
       "2     [{'city': 'West Hollywood', 'country_code': 'U...  \n",
       "3     [{'city': 'Beverly Hills', 'country_code': 'US...  \n",
       "4     [{'city': 'San Francisco', 'country_code': 'US...  \n",
       "...                                                 ...  \n",
       "8130  [{'city': 'London', 'country_code': 'GBR', 'la...  \n",
       "8131  [{'city': 'Mumbai', 'country_code': 'IND', 'la...  \n",
       "8132  [{'city': 'New York', 'country_code': 'USA', '...  \n",
       "8133                                                 []  \n",
       "8134  [{'city': 'Bikaner', 'country_code': 'IND', 'l...  \n",
       "\n",
       "[8135 rows x 4 columns]"
      ]
     },
     "execution_count": 223,
     "metadata": {},
     "output_type": "execute_result"
    }
   ],
   "source": [
    "df"
   ]
  },
  {
   "cell_type": "code",
   "execution_count": 224,
   "id": "82a53eed",
   "metadata": {},
   "outputs": [
    {
     "data": {
      "text/plain": [
       "{'city': 'Seattle',\n",
       " 'country_code': 'USA',\n",
       " 'latitude': 47.603122,\n",
       " 'longitude': -122.333253}"
      ]
     },
     "execution_count": 224,
     "metadata": {},
     "output_type": "execute_result"
    }
   ],
   "source": [
    "col_to_extract = df['offices']\n",
    "col_to_extract[0][0]"
   ]
  },
  {
   "cell_type": "code",
   "execution_count": 225,
   "id": "ab996625",
   "metadata": {},
   "outputs": [],
   "source": [
    "def extraction(col, new_col, data):    \n",
    "    list_ = []\n",
    "    for i in range(len(col)):\n",
    "        try:           \n",
    "            list_.append(col[i][0][data])             \n",
    "        except:\n",
    "            list_.append(\"null\")\n",
    "    df[new_col]= list_append\n",
    "    return"
   ]
  },
  {
   "cell_type": "code",
   "execution_count": 226,
   "id": "48cd4a41",
   "metadata": {},
   "outputs": [],
   "source": [
    "get_info(col_to_extract, \"Country\", \"country_code\")\n",
    "get_info(col_to_extract, \"City\", \"city\")\n",
    "get_info(col_to_extract, \"lat\", \"latitude\")\n",
    "get_info(col_to_extract, \"lon\", \"longitude\")"
   ]
  },
  {
   "cell_type": "code",
   "execution_count": 227,
   "id": "b33d72e5",
   "metadata": {},
   "outputs": [
    {
     "data": {
      "text/html": [
       "<div>\n",
       "<style scoped>\n",
       "    .dataframe tbody tr th:only-of-type {\n",
       "        vertical-align: middle;\n",
       "    }\n",
       "\n",
       "    .dataframe tbody tr th {\n",
       "        vertical-align: top;\n",
       "    }\n",
       "\n",
       "    .dataframe thead th {\n",
       "        text-align: right;\n",
       "    }\n",
       "</style>\n",
       "<table border=\"1\" class=\"dataframe\">\n",
       "  <thead>\n",
       "    <tr style=\"text-align: right;\">\n",
       "      <th></th>\n",
       "      <th>name</th>\n",
       "      <th>number_of_employees</th>\n",
       "      <th>total_money_raised</th>\n",
       "      <th>offices</th>\n",
       "      <th>Country</th>\n",
       "      <th>City</th>\n",
       "      <th>lat</th>\n",
       "      <th>lon</th>\n",
       "    </tr>\n",
       "  </thead>\n",
       "  <tbody>\n",
       "    <tr>\n",
       "      <th>0</th>\n",
       "      <td>Wetpaint</td>\n",
       "      <td>47</td>\n",
       "      <td>$39.8M</td>\n",
       "      <td>[{'city': 'Seattle', 'country_code': 'USA', 'l...</td>\n",
       "      <td>USA</td>\n",
       "      <td>Seattle</td>\n",
       "      <td>47.603122</td>\n",
       "      <td>-122.333253</td>\n",
       "    </tr>\n",
       "    <tr>\n",
       "      <th>1</th>\n",
       "      <td>Digg</td>\n",
       "      <td>60</td>\n",
       "      <td>$45M</td>\n",
       "      <td>[{'city': 'San Francisco', 'country_code': 'US...</td>\n",
       "      <td>USA</td>\n",
       "      <td>San Francisco</td>\n",
       "      <td>37.764726</td>\n",
       "      <td>-122.394523</td>\n",
       "    </tr>\n",
       "    <tr>\n",
       "      <th>2</th>\n",
       "      <td>Geni</td>\n",
       "      <td>18</td>\n",
       "      <td>$16.5M</td>\n",
       "      <td>[{'city': 'West Hollywood', 'country_code': 'U...</td>\n",
       "      <td>USA</td>\n",
       "      <td>West Hollywood</td>\n",
       "      <td>34.090368</td>\n",
       "      <td>-118.393064</td>\n",
       "    </tr>\n",
       "    <tr>\n",
       "      <th>3</th>\n",
       "      <td>Fox Interactive Media</td>\n",
       "      <td>0</td>\n",
       "      <td>$0</td>\n",
       "      <td>[{'city': 'Beverly Hills', 'country_code': 'US...</td>\n",
       "      <td>USA</td>\n",
       "      <td>Beverly Hills</td>\n",
       "      <td>34.076179</td>\n",
       "      <td>-118.39417</td>\n",
       "    </tr>\n",
       "    <tr>\n",
       "      <th>4</th>\n",
       "      <td>Scribd</td>\n",
       "      <td>50</td>\n",
       "      <td>$25.8M</td>\n",
       "      <td>[{'city': 'San Francisco', 'country_code': 'US...</td>\n",
       "      <td>USA</td>\n",
       "      <td>San Francisco</td>\n",
       "      <td>37.789634</td>\n",
       "      <td>-122.404052</td>\n",
       "    </tr>\n",
       "    <tr>\n",
       "      <th>...</th>\n",
       "      <td>...</td>\n",
       "      <td>...</td>\n",
       "      <td>...</td>\n",
       "      <td>...</td>\n",
       "      <td>...</td>\n",
       "      <td>...</td>\n",
       "      <td>...</td>\n",
       "      <td>...</td>\n",
       "    </tr>\n",
       "    <tr>\n",
       "      <th>8130</th>\n",
       "      <td>OfficialVirtualDJ</td>\n",
       "      <td>102</td>\n",
       "      <td>€25M</td>\n",
       "      <td>[{'city': 'London', 'country_code': 'GBR', 'la...</td>\n",
       "      <td>GBR</td>\n",
       "      <td>London</td>\n",
       "      <td>None</td>\n",
       "      <td>None</td>\n",
       "    </tr>\n",
       "    <tr>\n",
       "      <th>8131</th>\n",
       "      <td>Eazeeloans</td>\n",
       "      <td>25</td>\n",
       "      <td>$0</td>\n",
       "      <td>[{'city': 'Mumbai', 'country_code': 'IND', 'la...</td>\n",
       "      <td>IND</td>\n",
       "      <td>Mumbai</td>\n",
       "      <td>None</td>\n",
       "      <td>None</td>\n",
       "    </tr>\n",
       "    <tr>\n",
       "      <th>8132</th>\n",
       "      <td>DocASAP</td>\n",
       "      <td>7</td>\n",
       "      <td>$800k</td>\n",
       "      <td>[{'city': 'New York', 'country_code': 'USA', '...</td>\n",
       "      <td>USA</td>\n",
       "      <td>New York</td>\n",
       "      <td>None</td>\n",
       "      <td>None</td>\n",
       "    </tr>\n",
       "    <tr>\n",
       "      <th>8133</th>\n",
       "      <td>cotralis</td>\n",
       "      <td>1</td>\n",
       "      <td>$0</td>\n",
       "      <td>[]</td>\n",
       "      <td>null</td>\n",
       "      <td>null</td>\n",
       "      <td>null</td>\n",
       "      <td>null</td>\n",
       "    </tr>\n",
       "    <tr>\n",
       "      <th>8134</th>\n",
       "      <td>Adhunk</td>\n",
       "      <td>3</td>\n",
       "      <td>$0</td>\n",
       "      <td>[{'city': 'Bikaner', 'country_code': 'IND', 'l...</td>\n",
       "      <td>IND</td>\n",
       "      <td>Bikaner</td>\n",
       "      <td>None</td>\n",
       "      <td>None</td>\n",
       "    </tr>\n",
       "  </tbody>\n",
       "</table>\n",
       "<p>8135 rows × 8 columns</p>\n",
       "</div>"
      ],
      "text/plain": [
       "                       name  number_of_employees total_money_raised  \\\n",
       "0                  Wetpaint                   47             $39.8M   \n",
       "1                      Digg                   60               $45M   \n",
       "2                      Geni                   18             $16.5M   \n",
       "3     Fox Interactive Media                    0                 $0   \n",
       "4                    Scribd                   50             $25.8M   \n",
       "...                     ...                  ...                ...   \n",
       "8130      OfficialVirtualDJ                  102               €25M   \n",
       "8131             Eazeeloans                   25                 $0   \n",
       "8132                DocASAP                    7              $800k   \n",
       "8133               cotralis                    1                 $0   \n",
       "8134                 Adhunk                    3                 $0   \n",
       "\n",
       "                                                offices Country  \\\n",
       "0     [{'city': 'Seattle', 'country_code': 'USA', 'l...     USA   \n",
       "1     [{'city': 'San Francisco', 'country_code': 'US...     USA   \n",
       "2     [{'city': 'West Hollywood', 'country_code': 'U...     USA   \n",
       "3     [{'city': 'Beverly Hills', 'country_code': 'US...     USA   \n",
       "4     [{'city': 'San Francisco', 'country_code': 'US...     USA   \n",
       "...                                                 ...     ...   \n",
       "8130  [{'city': 'London', 'country_code': 'GBR', 'la...     GBR   \n",
       "8131  [{'city': 'Mumbai', 'country_code': 'IND', 'la...     IND   \n",
       "8132  [{'city': 'New York', 'country_code': 'USA', '...     USA   \n",
       "8133                                                 []    null   \n",
       "8134  [{'city': 'Bikaner', 'country_code': 'IND', 'l...     IND   \n",
       "\n",
       "                City        lat         lon  \n",
       "0            Seattle  47.603122 -122.333253  \n",
       "1      San Francisco  37.764726 -122.394523  \n",
       "2     West Hollywood  34.090368 -118.393064  \n",
       "3      Beverly Hills  34.076179  -118.39417  \n",
       "4      San Francisco  37.789634 -122.404052  \n",
       "...              ...        ...         ...  \n",
       "8130          London       None        None  \n",
       "8131          Mumbai       None        None  \n",
       "8132        New York       None        None  \n",
       "8133            null       null        null  \n",
       "8134         Bikaner       None        None  \n",
       "\n",
       "[8135 rows x 8 columns]"
      ]
     },
     "execution_count": 227,
     "metadata": {},
     "output_type": "execute_result"
    }
   ],
   "source": [
    "df"
   ]
  },
  {
   "cell_type": "code",
   "execution_count": 228,
   "id": "78a5c72f",
   "metadata": {},
   "outputs": [],
   "source": [
    "df.drop(['offices'],axis =1, inplace=True)\n",
    "df.dropna(inplace=True)\n",
    "df = df[df[\"Country\"] != \"null\"]"
   ]
  },
  {
   "cell_type": "code",
   "execution_count": 155,
   "id": "99ca2812",
   "metadata": {
    "scrolled": true
   },
   "outputs": [
    {
     "data": {
      "text/html": [
       "<div>\n",
       "<style scoped>\n",
       "    .dataframe tbody tr th:only-of-type {\n",
       "        vertical-align: middle;\n",
       "    }\n",
       "\n",
       "    .dataframe tbody tr th {\n",
       "        vertical-align: top;\n",
       "    }\n",
       "\n",
       "    .dataframe thead th {\n",
       "        text-align: right;\n",
       "    }\n",
       "</style>\n",
       "<table border=\"1\" class=\"dataframe\">\n",
       "  <thead>\n",
       "    <tr style=\"text-align: right;\">\n",
       "      <th></th>\n",
       "      <th>name</th>\n",
       "      <th>number_of_employees</th>\n",
       "      <th>total_money_raised</th>\n",
       "      <th>Country</th>\n",
       "      <th>City</th>\n",
       "      <th>lat</th>\n",
       "      <th>lon</th>\n",
       "    </tr>\n",
       "  </thead>\n",
       "  <tbody>\n",
       "    <tr>\n",
       "      <th>0</th>\n",
       "      <td>Wetpaint</td>\n",
       "      <td>47</td>\n",
       "      <td>$39.8M</td>\n",
       "      <td>USA</td>\n",
       "      <td>Seattle</td>\n",
       "      <td>47.603122</td>\n",
       "      <td>-122.333253</td>\n",
       "    </tr>\n",
       "    <tr>\n",
       "      <th>1</th>\n",
       "      <td>Digg</td>\n",
       "      <td>60</td>\n",
       "      <td>$45M</td>\n",
       "      <td>USA</td>\n",
       "      <td>San Francisco</td>\n",
       "      <td>37.764726</td>\n",
       "      <td>-122.394523</td>\n",
       "    </tr>\n",
       "    <tr>\n",
       "      <th>2</th>\n",
       "      <td>Geni</td>\n",
       "      <td>18</td>\n",
       "      <td>$16.5M</td>\n",
       "      <td>USA</td>\n",
       "      <td>West Hollywood</td>\n",
       "      <td>34.090368</td>\n",
       "      <td>-118.393064</td>\n",
       "    </tr>\n",
       "    <tr>\n",
       "      <th>3</th>\n",
       "      <td>Fox Interactive Media</td>\n",
       "      <td>0</td>\n",
       "      <td>$0</td>\n",
       "      <td>USA</td>\n",
       "      <td>Beverly Hills</td>\n",
       "      <td>34.076179</td>\n",
       "      <td>-118.39417</td>\n",
       "    </tr>\n",
       "    <tr>\n",
       "      <th>4</th>\n",
       "      <td>Scribd</td>\n",
       "      <td>50</td>\n",
       "      <td>$25.8M</td>\n",
       "      <td>USA</td>\n",
       "      <td>San Francisco</td>\n",
       "      <td>37.789634</td>\n",
       "      <td>-122.404052</td>\n",
       "    </tr>\n",
       "    <tr>\n",
       "      <th>...</th>\n",
       "      <td>...</td>\n",
       "      <td>...</td>\n",
       "      <td>...</td>\n",
       "      <td>...</td>\n",
       "      <td>...</td>\n",
       "      <td>...</td>\n",
       "      <td>...</td>\n",
       "    </tr>\n",
       "    <tr>\n",
       "      <th>4461</th>\n",
       "      <td>Tiny Speck</td>\n",
       "      <td>45</td>\n",
       "      <td>$17.2M</td>\n",
       "      <td>CAN</td>\n",
       "      <td>Vancouver</td>\n",
       "      <td>49.282455</td>\n",
       "      <td>-123.109217</td>\n",
       "    </tr>\n",
       "    <tr>\n",
       "      <th>4462</th>\n",
       "      <td>My TV Shows</td>\n",
       "      <td>2</td>\n",
       "      <td>$0</td>\n",
       "      <td>PRT</td>\n",
       "      <td>Lisbon</td>\n",
       "      <td>38.752367</td>\n",
       "      <td>-9.146221</td>\n",
       "    </tr>\n",
       "    <tr>\n",
       "      <th>4465</th>\n",
       "      <td>Atlantic BT</td>\n",
       "      <td>30</td>\n",
       "      <td>$0</td>\n",
       "      <td>USA</td>\n",
       "      <td>Raleigh</td>\n",
       "      <td>35.896906</td>\n",
       "      <td>-78.680678</td>\n",
       "    </tr>\n",
       "    <tr>\n",
       "      <th>4469</th>\n",
       "      <td>acrossair</td>\n",
       "      <td>6</td>\n",
       "      <td>$0</td>\n",
       "      <td>GBR</td>\n",
       "      <td>London</td>\n",
       "      <td>51.517742</td>\n",
       "      <td>-0.116537</td>\n",
       "    </tr>\n",
       "    <tr>\n",
       "      <th>4470</th>\n",
       "      <td>Getyoo</td>\n",
       "      <td>10</td>\n",
       "      <td>€1.13M</td>\n",
       "      <td>BEL</td>\n",
       "      <td>Brussels</td>\n",
       "      <td>50.83997</td>\n",
       "      <td>4.346472</td>\n",
       "    </tr>\n",
       "  </tbody>\n",
       "</table>\n",
       "<p>2910 rows × 7 columns</p>\n",
       "</div>"
      ],
      "text/plain": [
       "                       name  number_of_employees total_money_raised Country  \\\n",
       "0                  Wetpaint                   47             $39.8M     USA   \n",
       "1                      Digg                   60               $45M     USA   \n",
       "2                      Geni                   18             $16.5M     USA   \n",
       "3     Fox Interactive Media                    0                 $0     USA   \n",
       "4                    Scribd                   50             $25.8M     USA   \n",
       "...                     ...                  ...                ...     ...   \n",
       "4461             Tiny Speck                   45             $17.2M     CAN   \n",
       "4462            My TV Shows                    2                 $0     PRT   \n",
       "4465            Atlantic BT                   30                 $0     USA   \n",
       "4469              acrossair                    6                 $0     GBR   \n",
       "4470                 Getyoo                   10             €1.13M     BEL   \n",
       "\n",
       "                City        lat         lon  \n",
       "0            Seattle  47.603122 -122.333253  \n",
       "1      San Francisco  37.764726 -122.394523  \n",
       "2     West Hollywood  34.090368 -118.393064  \n",
       "3      Beverly Hills  34.076179  -118.39417  \n",
       "4      San Francisco  37.789634 -122.404052  \n",
       "...              ...        ...         ...  \n",
       "4461       Vancouver  49.282455 -123.109217  \n",
       "4462          Lisbon  38.752367   -9.146221  \n",
       "4465         Raleigh  35.896906  -78.680678  \n",
       "4469          London  51.517742   -0.116537  \n",
       "4470        Brussels   50.83997    4.346472  \n",
       "\n",
       "[2910 rows x 7 columns]"
      ]
     },
     "execution_count": 155,
     "metadata": {},
     "output_type": "execute_result"
    }
   ],
   "source": [
    "df"
   ]
  },
  {
   "cell_type": "code",
   "execution_count": 229,
   "id": "a2ed33d8",
   "metadata": {},
   "outputs": [
    {
     "data": {
      "text/plain": [
       "USA    3437\n",
       "Name: Country, dtype: int64"
      ]
     },
     "execution_count": 229,
     "metadata": {},
     "output_type": "execute_result"
    }
   ],
   "source": [
    "df[\"Country\"].value_counts()[:1]"
   ]
  },
  {
   "cell_type": "code",
   "execution_count": 230,
   "id": "9ebc9f0d",
   "metadata": {},
   "outputs": [
    {
     "data": {
      "text/plain": [
       "San Francisco    320\n",
       "New York         249\n",
       "Seattle           89\n",
       "Name: City, dtype: int64"
      ]
     },
     "execution_count": 230,
     "metadata": {},
     "output_type": "execute_result"
    }
   ],
   "source": [
    "df['City'].where(df['Country'] == 'USA').value_counts()[:3]"
   ]
  },
  {
   "cell_type": "code",
   "execution_count": 231,
   "id": "5ab5f3db",
   "metadata": {},
   "outputs": [
    {
     "data": {
      "text/html": [
       "<div>\n",
       "<style scoped>\n",
       "    .dataframe tbody tr th:only-of-type {\n",
       "        vertical-align: middle;\n",
       "    }\n",
       "\n",
       "    .dataframe tbody tr th {\n",
       "        vertical-align: top;\n",
       "    }\n",
       "\n",
       "    .dataframe thead th {\n",
       "        text-align: right;\n",
       "    }\n",
       "</style>\n",
       "<table border=\"1\" class=\"dataframe\">\n",
       "  <thead>\n",
       "    <tr style=\"text-align: right;\">\n",
       "      <th></th>\n",
       "      <th>name</th>\n",
       "      <th>number_of_employees</th>\n",
       "      <th>total_money_raised</th>\n",
       "      <th>Country</th>\n",
       "      <th>City</th>\n",
       "      <th>lat</th>\n",
       "      <th>lon</th>\n",
       "    </tr>\n",
       "  </thead>\n",
       "  <tbody>\n",
       "    <tr>\n",
       "      <th>1</th>\n",
       "      <td>Digg</td>\n",
       "      <td>60</td>\n",
       "      <td>$45M</td>\n",
       "      <td>USA</td>\n",
       "      <td>San Francisco</td>\n",
       "      <td>37.764726</td>\n",
       "      <td>-122.394523</td>\n",
       "    </tr>\n",
       "    <tr>\n",
       "      <th>4</th>\n",
       "      <td>Scribd</td>\n",
       "      <td>50</td>\n",
       "      <td>$25.8M</td>\n",
       "      <td>USA</td>\n",
       "      <td>San Francisco</td>\n",
       "      <td>37.789634</td>\n",
       "      <td>-122.404052</td>\n",
       "    </tr>\n",
       "    <tr>\n",
       "      <th>8</th>\n",
       "      <td>Powerset</td>\n",
       "      <td>60</td>\n",
       "      <td>$22.5M</td>\n",
       "      <td>USA</td>\n",
       "      <td>San Francisco</td>\n",
       "      <td>37.778613</td>\n",
       "      <td>-122.395289</td>\n",
       "    </tr>\n",
       "    <tr>\n",
       "      <th>9</th>\n",
       "      <td>Technorati</td>\n",
       "      <td>35</td>\n",
       "      <td>$32.1M</td>\n",
       "      <td>USA</td>\n",
       "      <td>San Francisco</td>\n",
       "      <td>37.779558</td>\n",
       "      <td>-122.393041</td>\n",
       "    </tr>\n",
       "    <tr>\n",
       "      <th>12</th>\n",
       "      <td>Kyte</td>\n",
       "      <td>40</td>\n",
       "      <td>$23.4M</td>\n",
       "      <td>USA</td>\n",
       "      <td>San Francisco</td>\n",
       "      <td>37.788482</td>\n",
       "      <td>-122.409173</td>\n",
       "    </tr>\n",
       "    <tr>\n",
       "      <th>...</th>\n",
       "      <td>...</td>\n",
       "      <td>...</td>\n",
       "      <td>...</td>\n",
       "      <td>...</td>\n",
       "      <td>...</td>\n",
       "      <td>...</td>\n",
       "      <td>...</td>\n",
       "    </tr>\n",
       "    <tr>\n",
       "      <th>7776</th>\n",
       "      <td>UTOPY</td>\n",
       "      <td>40</td>\n",
       "      <td>$7.5M</td>\n",
       "      <td>USA</td>\n",
       "      <td>San Francisco</td>\n",
       "      <td>37.767575</td>\n",
       "      <td>-122.411157</td>\n",
       "    </tr>\n",
       "    <tr>\n",
       "      <th>7821</th>\n",
       "      <td>ZoomSystems</td>\n",
       "      <td>100</td>\n",
       "      <td>$87M</td>\n",
       "      <td>USA</td>\n",
       "      <td>San Francisco</td>\n",
       "      <td>37.781689</td>\n",
       "      <td>-122.391061</td>\n",
       "    </tr>\n",
       "    <tr>\n",
       "      <th>7879</th>\n",
       "      <td>Mondo Media</td>\n",
       "      <td>9</td>\n",
       "      <td>$0</td>\n",
       "      <td>USA</td>\n",
       "      <td>San Francisco</td>\n",
       "      <td>37.764169</td>\n",
       "      <td>-122.402021</td>\n",
       "    </tr>\n",
       "    <tr>\n",
       "      <th>7902</th>\n",
       "      <td>TwtBks</td>\n",
       "      <td>3</td>\n",
       "      <td>$25k</td>\n",
       "      <td>USA</td>\n",
       "      <td>San Francisco</td>\n",
       "      <td>37.761102</td>\n",
       "      <td>-122.416001</td>\n",
       "    </tr>\n",
       "    <tr>\n",
       "      <th>8073</th>\n",
       "      <td>DJ Nitrogen</td>\n",
       "      <td>8</td>\n",
       "      <td>$0</td>\n",
       "      <td>USA</td>\n",
       "      <td>San Francisco</td>\n",
       "      <td>37.784174</td>\n",
       "      <td>-122.449408</td>\n",
       "    </tr>\n",
       "  </tbody>\n",
       "</table>\n",
       "<p>320 rows × 7 columns</p>\n",
       "</div>"
      ],
      "text/plain": [
       "             name  number_of_employees total_money_raised Country  \\\n",
       "1            Digg                   60               $45M     USA   \n",
       "4          Scribd                   50             $25.8M     USA   \n",
       "8        Powerset                   60             $22.5M     USA   \n",
       "9      Technorati                   35             $32.1M     USA   \n",
       "12           Kyte                   40             $23.4M     USA   \n",
       "...           ...                  ...                ...     ...   \n",
       "7776        UTOPY                   40              $7.5M     USA   \n",
       "7821  ZoomSystems                  100               $87M     USA   \n",
       "7879  Mondo Media                    9                 $0     USA   \n",
       "7902       TwtBks                    3               $25k     USA   \n",
       "8073  DJ Nitrogen                    8                 $0     USA   \n",
       "\n",
       "               City        lat         lon  \n",
       "1     San Francisco  37.764726 -122.394523  \n",
       "4     San Francisco  37.789634 -122.404052  \n",
       "8     San Francisco  37.778613 -122.395289  \n",
       "9     San Francisco  37.779558 -122.393041  \n",
       "12    San Francisco  37.788482 -122.409173  \n",
       "...             ...        ...         ...  \n",
       "7776  San Francisco  37.767575 -122.411157  \n",
       "7821  San Francisco  37.781689 -122.391061  \n",
       "7879  San Francisco  37.764169 -122.402021  \n",
       "7902  San Francisco  37.761102 -122.416001  \n",
       "8073  San Francisco  37.784174 -122.449408  \n",
       "\n",
       "[320 rows x 7 columns]"
      ]
     },
     "execution_count": 231,
     "metadata": {},
     "output_type": "execute_result"
    }
   ],
   "source": [
    "df_SanF = df[df['City'] == 'San Francisco']\n",
    "df_SanF"
   ]
  },
  {
   "cell_type": "code",
   "execution_count": null,
   "id": "f4f762ae",
   "metadata": {},
   "outputs": [],
   "source": [
    "df"
   ]
  },
  {
   "cell_type": "code",
   "execution_count": null,
   "id": "1c80c841",
   "metadata": {},
   "outputs": [],
   "source": []
  },
  {
   "cell_type": "code",
   "execution_count": null,
   "id": "37ae7a09",
   "metadata": {},
   "outputs": [],
   "source": []
  },
  {
   "cell_type": "code",
   "execution_count": null,
   "id": "a2fa23e9",
   "metadata": {},
   "outputs": [],
   "source": []
  },
  {
   "cell_type": "code",
   "execution_count": null,
   "id": "6d9eee16",
   "metadata": {},
   "outputs": [],
   "source": []
  },
  {
   "cell_type": "code",
   "execution_count": null,
   "id": "49bf12fa",
   "metadata": {},
   "outputs": [],
   "source": []
  },
  {
   "cell_type": "code",
   "execution_count": null,
   "id": "fce2d620",
   "metadata": {},
   "outputs": [],
   "source": [
    "'''STARTING THE PROJECT\n",
    "\n",
    ":uno: Explore database & filter it\n",
    "\n",
    ":dos: Explore how to query (no matter city yet):\n",
    "\n",
    "Create small function to query starbucks (limit=1, city=whichever)\n",
    "Small function to query something else (limit=1, city=whichever)\n",
    "Maybe these two can be the same and it’s just a matter of parametrization?\n",
    "and so on :cara_ligeramente_sonriente:\n",
    ":tres: Focus on getting one thing at a time: you’ll scale things up later on\n",
    "It’s about making decisions. Try to justify them with data as much as you can, but it’s okay as some of them you’ll have to make a bit randomly.\n",
    "Goal of the project is:\n",
    "Querying a database\n",
    "Extracting information through an API\n",
    "Loading that information back into a database\n",
    "Aggregate and explore by: doing geoqueries\n",
    "Visualize using maps :mapamundi:'''"
   ]
  },
  {
   "cell_type": "code",
   "execution_count": 125,
   "id": "cd98fce0",
   "metadata": {},
   "outputs": [
    {
     "data": {
      "text/html": [
       "<div>\n",
       "<style scoped>\n",
       "    .dataframe tbody tr th:only-of-type {\n",
       "        vertical-align: middle;\n",
       "    }\n",
       "\n",
       "    .dataframe tbody tr th {\n",
       "        vertical-align: top;\n",
       "    }\n",
       "\n",
       "    .dataframe thead th {\n",
       "        text-align: right;\n",
       "    }\n",
       "</style>\n",
       "<table border=\"1\" class=\"dataframe\">\n",
       "  <thead>\n",
       "    <tr style=\"text-align: right;\">\n",
       "      <th></th>\n",
       "      <th>Requirements</th>\n",
       "      <th>Priorization Factor</th>\n",
       "    </tr>\n",
       "  </thead>\n",
       "  <tbody>\n",
       "    <tr>\n",
       "      <th>0</th>\n",
       "      <td>Design companies nearby</td>\n",
       "      <td>1</td>\n",
       "    </tr>\n",
       "    <tr>\n",
       "      <th>1</th>\n",
       "      <td>30% of staff have childs</td>\n",
       "      <td>1</td>\n",
       "    </tr>\n",
       "    <tr>\n",
       "      <th>2</th>\n",
       "      <td>Near successful tech startups</td>\n",
       "      <td>1</td>\n",
       "    </tr>\n",
       "    <tr>\n",
       "      <th>3</th>\n",
       "      <td>Starbucks not too far</td>\n",
       "      <td>1</td>\n",
       "    </tr>\n",
       "    <tr>\n",
       "      <th>4</th>\n",
       "      <td>Account managers need to travel a lot</td>\n",
       "      <td>1</td>\n",
       "    </tr>\n",
       "    <tr>\n",
       "      <th>5</th>\n",
       "      <td>Place to go party</td>\n",
       "      <td>1</td>\n",
       "    </tr>\n",
       "    <tr>\n",
       "      <th>6</th>\n",
       "      <td>The CEO is vegan</td>\n",
       "      <td>1</td>\n",
       "    </tr>\n",
       "    <tr>\n",
       "      <th>7</th>\n",
       "      <td>A basketball stadium must be around 10 Km</td>\n",
       "      <td>1</td>\n",
       "    </tr>\n",
       "    <tr>\n",
       "      <th>8</th>\n",
       "      <td>Dog hairdresser not too far</td>\n",
       "      <td>1</td>\n",
       "    </tr>\n",
       "  </tbody>\n",
       "</table>\n",
       "</div>"
      ],
      "text/plain": [
       "                               Requirements   Priorization Factor\n",
       "0                    Design companies nearby                    1\n",
       "1                   30% of staff have childs                    1\n",
       "2              Near successful tech startups                    1\n",
       "3                      Starbucks not too far                    1\n",
       "4      Account managers need to travel a lot                    1\n",
       "5                          Place to go party                    1\n",
       "6                           The CEO is vegan                    1\n",
       "7  A basketball stadium must be around 10 Km                    1\n",
       "8                Dog hairdresser not too far                    1"
      ]
     },
     "execution_count": 125,
     "metadata": {},
     "output_type": "execute_result"
    }
   ],
   "source": [
    "data = {'Requirements ':   ['Design companies nearby', \n",
    "                            '30% of staff have childs /parks and schools nearby/,\n",
    "                            'Near successful tech startups',\n",
    "                            'Starbucks not too far',\n",
    "                            'Account managers need to travel a lot',\n",
    "                            'Place to go party',\n",
    "                            'The CEO is vegan',\n",
    "                            'A basketball stadium must be around 10 Km',\n",
    "                            'Dog hairdresser not too far'],\n",
    "        \n",
    "        'Priorization Factor': [1, 1, 1, 1, 1, 1, 1, 1, 1]}\n",
    "  \n",
    "\n",
    "\n",
    "df_info = pd.DataFrame(data)\n",
    "df_info                      "
   ]
  },
  {
   "cell_type": "code",
   "execution_count": null,
   "id": "7b5f5d1b",
   "metadata": {},
   "outputs": [],
   "source": []
  },
  {
   "cell_type": "markdown",
   "id": "174c74ab",
   "metadata": {},
   "source": [
    "# QUERY = Near to Design Companies"
   ]
  },
  {
   "cell_type": "code",
   "execution_count": 274,
   "id": "d7949390",
   "metadata": {},
   "outputs": [],
   "source": [
    "def type_point (list_):\n",
    "    return {\"type\": \"Point\", \"coordinates\": list_}"
   ]
  },
  {
   "cell_type": "code",
   "execution_count": 275,
   "id": "d31aa7d4",
   "metadata": {},
   "outputs": [],
   "source": [
    "def get_closeby_things (location, max_distance):\n",
    "    \n",
    "    proy_ = {\"_id\": 0}\n",
    "\n",
    "    converted = type_point (location)\n",
    "    query = {\"$or\": conditions, \"location\": {\n",
    "        \"$near\": {\n",
    "            \"$geometry\": converted, \"$maxDistance\": max_distance\n",
    "        }}\n",
    "\n",
    "    }\n",
    "\n",
    "    return list(c.find(query, proy_))"
   ]
  },
  {
   "cell_type": "code",
   "execution_count": 276,
   "id": "f11aebb7",
   "metadata": {},
   "outputs": [],
   "source": [
    "location11=[-122.333253, 47.603122]"
   ]
  },
  {
   "cell_type": "code",
   "execution_count": 277,
   "id": "b04a04c3",
   "metadata": {},
   "outputs": [],
   "source": [
    "max_distance = 2000"
   ]
  },
  {
   "cell_type": "code",
   "execution_count": 278,
   "id": "3021833e",
   "metadata": {},
   "outputs": [],
   "source": [
    "filter_40 = {\"category_code\": {\"$regex\": \"design\"}}\n",
    "filter_13 = {\"description\": {\"$regex\": \"design\"}}\n",
    "filter_2 = {\"tag_list\": {\"$regex\": \"design\"}}\n",
    "\n",
    "conditions = [filter_40, filter_13, filter_2]"
   ]
  },
  {
   "cell_type": "code",
   "execution_count": 279,
   "id": "1f0acf4c",
   "metadata": {},
   "outputs": [
    {
     "ename": "OperationFailure",
     "evalue": "error processing query: ns=ironhack.CrunchbaseTree: $and\n    $or\n        category_code regex /design/\n        description regex /design/\n        tag_list regex /design/\n    GEONEAR  field=location maxdist=2000 isNearSphere=0\nSort: {}\nProj: { _id: 0 }\n planner returned error :: caused by :: unable to find index for $geoNear query, full error: {'ok': 0.0, 'errmsg': 'error processing query: ns=ironhack.CrunchbaseTree: $and\\n    $or\\n        category_code regex /design/\\n        description regex /design/\\n        tag_list regex /design/\\n    GEONEAR  field=location maxdist=2000 isNearSphere=0\\nSort: {}\\nProj: { _id: 0 }\\n planner returned error :: caused by :: unable to find index for $geoNear query', 'code': 291, 'codeName': 'NoQueryExecutionPlans'}",
     "output_type": "error",
     "traceback": [
      "\u001b[1;31m---------------------------------------------------------------------------\u001b[0m",
      "\u001b[1;31mOperationFailure\u001b[0m                          Traceback (most recent call last)",
      "Input \u001b[1;32mIn [279]\u001b[0m, in \u001b[0;36m<cell line: 1>\u001b[1;34m()\u001b[0m\n\u001b[1;32m----> 1\u001b[0m result_design\u001b[38;5;241m=\u001b[39m \u001b[43mget_closeby_things\u001b[49m\u001b[43m \u001b[49m\u001b[43m(\u001b[49m\u001b[43mlocation11\u001b[49m\u001b[43m,\u001b[49m\u001b[43m \u001b[49m\u001b[43mmax_distance\u001b[49m\u001b[43m)\u001b[49m\n",
      "Input \u001b[1;32mIn [275]\u001b[0m, in \u001b[0;36mget_closeby_things\u001b[1;34m(location, max_distance)\u001b[0m\n\u001b[0;32m      5\u001b[0m converted \u001b[38;5;241m=\u001b[39m type_point (location)\n\u001b[0;32m      6\u001b[0m query \u001b[38;5;241m=\u001b[39m {\u001b[38;5;124m\"\u001b[39m\u001b[38;5;124m$or\u001b[39m\u001b[38;5;124m\"\u001b[39m: conditions, \u001b[38;5;124m\"\u001b[39m\u001b[38;5;124mlocation\u001b[39m\u001b[38;5;124m\"\u001b[39m: {\n\u001b[0;32m      7\u001b[0m     \u001b[38;5;124m\"\u001b[39m\u001b[38;5;124m$near\u001b[39m\u001b[38;5;124m\"\u001b[39m: {\n\u001b[0;32m      8\u001b[0m         \u001b[38;5;124m\"\u001b[39m\u001b[38;5;124m$geometry\u001b[39m\u001b[38;5;124m\"\u001b[39m: converted, \u001b[38;5;124m\"\u001b[39m\u001b[38;5;124m$maxDistance\u001b[39m\u001b[38;5;124m\"\u001b[39m: max_distance\n\u001b[0;32m      9\u001b[0m     }}\n\u001b[0;32m     10\u001b[0m \n\u001b[0;32m     11\u001b[0m }\n\u001b[1;32m---> 13\u001b[0m \u001b[38;5;28;01mreturn\u001b[39;00m \u001b[38;5;28;43mlist\u001b[39;49m\u001b[43m(\u001b[49m\u001b[43mc\u001b[49m\u001b[38;5;241;43m.\u001b[39;49m\u001b[43mfind\u001b[49m\u001b[43m(\u001b[49m\u001b[43mquery\u001b[49m\u001b[43m,\u001b[49m\u001b[43m \u001b[49m\u001b[43mproy_\u001b[49m\u001b[43m)\u001b[49m\u001b[43m)\u001b[49m\n",
      "File \u001b[1;32m~\\miniconda3\\envs\\ironhack\\lib\\site-packages\\pymongo\\cursor.py:1248\u001b[0m, in \u001b[0;36mCursor.next\u001b[1;34m(self)\u001b[0m\n\u001b[0;32m   1246\u001b[0m \u001b[38;5;28;01mif\u001b[39;00m \u001b[38;5;28mself\u001b[39m\u001b[38;5;241m.\u001b[39m__empty:\n\u001b[0;32m   1247\u001b[0m     \u001b[38;5;28;01mraise\u001b[39;00m \u001b[38;5;167;01mStopIteration\u001b[39;00m\n\u001b[1;32m-> 1248\u001b[0m \u001b[38;5;28;01mif\u001b[39;00m \u001b[38;5;28mlen\u001b[39m(\u001b[38;5;28mself\u001b[39m\u001b[38;5;241m.\u001b[39m__data) \u001b[38;5;129;01mor\u001b[39;00m \u001b[38;5;28;43mself\u001b[39;49m\u001b[38;5;241;43m.\u001b[39;49m\u001b[43m_refresh\u001b[49m\u001b[43m(\u001b[49m\u001b[43m)\u001b[49m:\n\u001b[0;32m   1249\u001b[0m     \u001b[38;5;28;01mreturn\u001b[39;00m \u001b[38;5;28mself\u001b[39m\u001b[38;5;241m.\u001b[39m__data\u001b[38;5;241m.\u001b[39mpopleft()\n\u001b[0;32m   1250\u001b[0m \u001b[38;5;28;01melse\u001b[39;00m:\n",
      "File \u001b[1;32m~\\miniconda3\\envs\\ironhack\\lib\\site-packages\\pymongo\\cursor.py:1165\u001b[0m, in \u001b[0;36mCursor._refresh\u001b[1;34m(self)\u001b[0m\n\u001b[0;32m   1143\u001b[0m         \u001b[38;5;28;01mraise\u001b[39;00m InvalidOperation(\n\u001b[0;32m   1144\u001b[0m             \u001b[38;5;124m\"\u001b[39m\u001b[38;5;124mPassing a \u001b[39m\u001b[38;5;124m'\u001b[39m\u001b[38;5;124mhint\u001b[39m\u001b[38;5;124m'\u001b[39m\u001b[38;5;124m is required when using the min/max query\u001b[39m\u001b[38;5;124m\"\u001b[39m\n\u001b[0;32m   1145\u001b[0m             \u001b[38;5;124m\"\u001b[39m\u001b[38;5;124m option to ensure the query utilizes the correct index\u001b[39m\u001b[38;5;124m\"\u001b[39m\n\u001b[0;32m   1146\u001b[0m         )\n\u001b[0;32m   1147\u001b[0m     q \u001b[38;5;241m=\u001b[39m \u001b[38;5;28mself\u001b[39m\u001b[38;5;241m.\u001b[39m_query_class(\n\u001b[0;32m   1148\u001b[0m         \u001b[38;5;28mself\u001b[39m\u001b[38;5;241m.\u001b[39m__query_flags,\n\u001b[0;32m   1149\u001b[0m         \u001b[38;5;28mself\u001b[39m\u001b[38;5;241m.\u001b[39m__collection\u001b[38;5;241m.\u001b[39mdatabase\u001b[38;5;241m.\u001b[39mname,\n\u001b[1;32m   (...)\u001b[0m\n\u001b[0;32m   1163\u001b[0m         \u001b[38;5;28mself\u001b[39m\u001b[38;5;241m.\u001b[39m__exhaust,\n\u001b[0;32m   1164\u001b[0m     )\n\u001b[1;32m-> 1165\u001b[0m     \u001b[38;5;28;43mself\u001b[39;49m\u001b[38;5;241;43m.\u001b[39;49m\u001b[43m__send_message\u001b[49m\u001b[43m(\u001b[49m\u001b[43mq\u001b[49m\u001b[43m)\u001b[49m\n\u001b[0;32m   1166\u001b[0m \u001b[38;5;28;01melif\u001b[39;00m \u001b[38;5;28mself\u001b[39m\u001b[38;5;241m.\u001b[39m__id:  \u001b[38;5;66;03m# Get More\u001b[39;00m\n\u001b[0;32m   1167\u001b[0m     \u001b[38;5;28;01mif\u001b[39;00m \u001b[38;5;28mself\u001b[39m\u001b[38;5;241m.\u001b[39m__limit:\n",
      "File \u001b[1;32m~\\miniconda3\\envs\\ironhack\\lib\\site-packages\\pymongo\\cursor.py:1052\u001b[0m, in \u001b[0;36mCursor.__send_message\u001b[1;34m(self, operation)\u001b[0m\n\u001b[0;32m   1049\u001b[0m     \u001b[38;5;28;01mraise\u001b[39;00m InvalidOperation(\u001b[38;5;124m\"\u001b[39m\u001b[38;5;124mexhaust cursors do not support auto encryption\u001b[39m\u001b[38;5;124m\"\u001b[39m)\n\u001b[0;32m   1051\u001b[0m \u001b[38;5;28;01mtry\u001b[39;00m:\n\u001b[1;32m-> 1052\u001b[0m     response \u001b[38;5;241m=\u001b[39m \u001b[43mclient\u001b[49m\u001b[38;5;241;43m.\u001b[39;49m\u001b[43m_run_operation\u001b[49m\u001b[43m(\u001b[49m\n\u001b[0;32m   1053\u001b[0m \u001b[43m        \u001b[49m\u001b[43moperation\u001b[49m\u001b[43m,\u001b[49m\u001b[43m \u001b[49m\u001b[38;5;28;43mself\u001b[39;49m\u001b[38;5;241;43m.\u001b[39;49m\u001b[43m_unpack_response\u001b[49m\u001b[43m,\u001b[49m\u001b[43m \u001b[49m\u001b[43maddress\u001b[49m\u001b[38;5;241;43m=\u001b[39;49m\u001b[38;5;28;43mself\u001b[39;49m\u001b[38;5;241;43m.\u001b[39;49m\u001b[43m__address\u001b[49m\n\u001b[0;32m   1054\u001b[0m \u001b[43m    \u001b[49m\u001b[43m)\u001b[49m\n\u001b[0;32m   1055\u001b[0m \u001b[38;5;28;01mexcept\u001b[39;00m OperationFailure \u001b[38;5;28;01mas\u001b[39;00m exc:\n\u001b[0;32m   1056\u001b[0m     \u001b[38;5;28;01mif\u001b[39;00m exc\u001b[38;5;241m.\u001b[39mcode \u001b[38;5;129;01min\u001b[39;00m _CURSOR_CLOSED_ERRORS \u001b[38;5;129;01mor\u001b[39;00m \u001b[38;5;28mself\u001b[39m\u001b[38;5;241m.\u001b[39m__exhaust:\n\u001b[0;32m   1057\u001b[0m         \u001b[38;5;66;03m# Don't send killCursors because the cursor is already closed.\u001b[39;00m\n",
      "File \u001b[1;32m~\\miniconda3\\envs\\ironhack\\lib\\site-packages\\pymongo\\_csot.py:105\u001b[0m, in \u001b[0;36mapply.<locals>.csot_wrapper\u001b[1;34m(self, *args, **kwargs)\u001b[0m\n\u001b[0;32m    103\u001b[0m         \u001b[38;5;28;01mwith\u001b[39;00m _TimeoutContext(timeout):\n\u001b[0;32m    104\u001b[0m             \u001b[38;5;28;01mreturn\u001b[39;00m func(\u001b[38;5;28mself\u001b[39m, \u001b[38;5;241m*\u001b[39margs, \u001b[38;5;241m*\u001b[39m\u001b[38;5;241m*\u001b[39mkwargs)\n\u001b[1;32m--> 105\u001b[0m \u001b[38;5;28;01mreturn\u001b[39;00m func(\u001b[38;5;28mself\u001b[39m, \u001b[38;5;241m*\u001b[39margs, \u001b[38;5;241m*\u001b[39m\u001b[38;5;241m*\u001b[39mkwargs)\n",
      "File \u001b[1;32m~\\miniconda3\\envs\\ironhack\\lib\\site-packages\\pymongo\\mongo_client.py:1330\u001b[0m, in \u001b[0;36mMongoClient._run_operation\u001b[1;34m(self, operation, unpack_res, address)\u001b[0m\n\u001b[0;32m   1325\u001b[0m     operation\u001b[38;5;241m.\u001b[39mreset()  \u001b[38;5;66;03m# Reset op in case of retry.\u001b[39;00m\n\u001b[0;32m   1326\u001b[0m     \u001b[38;5;28;01mreturn\u001b[39;00m server\u001b[38;5;241m.\u001b[39mrun_operation(\n\u001b[0;32m   1327\u001b[0m         sock_info, operation, read_preference, \u001b[38;5;28mself\u001b[39m\u001b[38;5;241m.\u001b[39m_event_listeners, unpack_res\n\u001b[0;32m   1328\u001b[0m     )\n\u001b[1;32m-> 1330\u001b[0m \u001b[38;5;28;01mreturn\u001b[39;00m \u001b[38;5;28;43mself\u001b[39;49m\u001b[38;5;241;43m.\u001b[39;49m\u001b[43m_retryable_read\u001b[49m\u001b[43m(\u001b[49m\n\u001b[0;32m   1331\u001b[0m \u001b[43m    \u001b[49m\u001b[43m_cmd\u001b[49m\u001b[43m,\u001b[49m\n\u001b[0;32m   1332\u001b[0m \u001b[43m    \u001b[49m\u001b[43moperation\u001b[49m\u001b[38;5;241;43m.\u001b[39;49m\u001b[43mread_preference\u001b[49m\u001b[43m,\u001b[49m\n\u001b[0;32m   1333\u001b[0m \u001b[43m    \u001b[49m\u001b[43moperation\u001b[49m\u001b[38;5;241;43m.\u001b[39;49m\u001b[43msession\u001b[49m\u001b[43m,\u001b[49m\n\u001b[0;32m   1334\u001b[0m \u001b[43m    \u001b[49m\u001b[43maddress\u001b[49m\u001b[38;5;241;43m=\u001b[39;49m\u001b[43maddress\u001b[49m\u001b[43m,\u001b[49m\n\u001b[0;32m   1335\u001b[0m \u001b[43m    \u001b[49m\u001b[43mretryable\u001b[49m\u001b[38;5;241;43m=\u001b[39;49m\u001b[38;5;28;43misinstance\u001b[39;49m\u001b[43m(\u001b[49m\u001b[43moperation\u001b[49m\u001b[43m,\u001b[49m\u001b[43m \u001b[49m\u001b[43mmessage\u001b[49m\u001b[38;5;241;43m.\u001b[39;49m\u001b[43m_Query\u001b[49m\u001b[43m)\u001b[49m\u001b[43m,\u001b[49m\n\u001b[0;32m   1336\u001b[0m \u001b[43m\u001b[49m\u001b[43m)\u001b[49m\n",
      "File \u001b[1;32m~\\miniconda3\\envs\\ironhack\\lib\\site-packages\\pymongo\\_csot.py:105\u001b[0m, in \u001b[0;36mapply.<locals>.csot_wrapper\u001b[1;34m(self, *args, **kwargs)\u001b[0m\n\u001b[0;32m    103\u001b[0m         \u001b[38;5;28;01mwith\u001b[39;00m _TimeoutContext(timeout):\n\u001b[0;32m    104\u001b[0m             \u001b[38;5;28;01mreturn\u001b[39;00m func(\u001b[38;5;28mself\u001b[39m, \u001b[38;5;241m*\u001b[39margs, \u001b[38;5;241m*\u001b[39m\u001b[38;5;241m*\u001b[39mkwargs)\n\u001b[1;32m--> 105\u001b[0m \u001b[38;5;28;01mreturn\u001b[39;00m func(\u001b[38;5;28mself\u001b[39m, \u001b[38;5;241m*\u001b[39margs, \u001b[38;5;241m*\u001b[39m\u001b[38;5;241m*\u001b[39mkwargs)\n",
      "File \u001b[1;32m~\\miniconda3\\envs\\ironhack\\lib\\site-packages\\pymongo\\mongo_client.py:1448\u001b[0m, in \u001b[0;36mMongoClient._retryable_read\u001b[1;34m(self, func, read_pref, session, address, retryable)\u001b[0m\n\u001b[0;32m   1446\u001b[0m             \u001b[38;5;28;01massert\u001b[39;00m last_error \u001b[38;5;129;01mis\u001b[39;00m \u001b[38;5;129;01mnot\u001b[39;00m \u001b[38;5;28;01mNone\u001b[39;00m\n\u001b[0;32m   1447\u001b[0m             \u001b[38;5;28;01mraise\u001b[39;00m last_error\n\u001b[1;32m-> 1448\u001b[0m         \u001b[38;5;28;01mreturn\u001b[39;00m \u001b[43mfunc\u001b[49m\u001b[43m(\u001b[49m\u001b[43msession\u001b[49m\u001b[43m,\u001b[49m\u001b[43m \u001b[49m\u001b[43mserver\u001b[49m\u001b[43m,\u001b[49m\u001b[43m \u001b[49m\u001b[43msock_info\u001b[49m\u001b[43m,\u001b[49m\u001b[43m \u001b[49m\u001b[43mread_pref\u001b[49m\u001b[43m)\u001b[49m\n\u001b[0;32m   1449\u001b[0m \u001b[38;5;28;01mexcept\u001b[39;00m ServerSelectionTimeoutError:\n\u001b[0;32m   1450\u001b[0m     \u001b[38;5;28;01mif\u001b[39;00m retrying:\n\u001b[0;32m   1451\u001b[0m         \u001b[38;5;66;03m# The application may think the write was never attempted\u001b[39;00m\n\u001b[0;32m   1452\u001b[0m         \u001b[38;5;66;03m# if we raise ServerSelectionTimeoutError on the retry\u001b[39;00m\n\u001b[0;32m   1453\u001b[0m         \u001b[38;5;66;03m# attempt. Raise the original exception instead.\u001b[39;00m\n",
      "File \u001b[1;32m~\\miniconda3\\envs\\ironhack\\lib\\site-packages\\pymongo\\mongo_client.py:1326\u001b[0m, in \u001b[0;36mMongoClient._run_operation.<locals>._cmd\u001b[1;34m(session, server, sock_info, read_preference)\u001b[0m\n\u001b[0;32m   1324\u001b[0m \u001b[38;5;28;01mdef\u001b[39;00m \u001b[38;5;21m_cmd\u001b[39m(session, server, sock_info, read_preference):\n\u001b[0;32m   1325\u001b[0m     operation\u001b[38;5;241m.\u001b[39mreset()  \u001b[38;5;66;03m# Reset op in case of retry.\u001b[39;00m\n\u001b[1;32m-> 1326\u001b[0m     \u001b[38;5;28;01mreturn\u001b[39;00m \u001b[43mserver\u001b[49m\u001b[38;5;241;43m.\u001b[39;49m\u001b[43mrun_operation\u001b[49m\u001b[43m(\u001b[49m\n\u001b[0;32m   1327\u001b[0m \u001b[43m        \u001b[49m\u001b[43msock_info\u001b[49m\u001b[43m,\u001b[49m\u001b[43m \u001b[49m\u001b[43moperation\u001b[49m\u001b[43m,\u001b[49m\u001b[43m \u001b[49m\u001b[43mread_preference\u001b[49m\u001b[43m,\u001b[49m\u001b[43m \u001b[49m\u001b[38;5;28;43mself\u001b[39;49m\u001b[38;5;241;43m.\u001b[39;49m\u001b[43m_event_listeners\u001b[49m\u001b[43m,\u001b[49m\u001b[43m \u001b[49m\u001b[43munpack_res\u001b[49m\n\u001b[0;32m   1328\u001b[0m \u001b[43m    \u001b[49m\u001b[43m)\u001b[49m\n",
      "File \u001b[1;32m~\\miniconda3\\envs\\ironhack\\lib\\site-packages\\pymongo\\server.py:134\u001b[0m, in \u001b[0;36mServer.run_operation\u001b[1;34m(self, sock_info, operation, read_preference, listeners, unpack_res)\u001b[0m\n\u001b[0;32m    132\u001b[0m         first \u001b[38;5;241m=\u001b[39m docs[\u001b[38;5;241m0\u001b[39m]\n\u001b[0;32m    133\u001b[0m         operation\u001b[38;5;241m.\u001b[39mclient\u001b[38;5;241m.\u001b[39m_process_response(first, operation\u001b[38;5;241m.\u001b[39msession)\n\u001b[1;32m--> 134\u001b[0m         \u001b[43m_check_command_response\u001b[49m\u001b[43m(\u001b[49m\u001b[43mfirst\u001b[49m\u001b[43m,\u001b[49m\u001b[43m \u001b[49m\u001b[43msock_info\u001b[49m\u001b[38;5;241;43m.\u001b[39;49m\u001b[43mmax_wire_version\u001b[49m\u001b[43m)\u001b[49m\n\u001b[0;32m    135\u001b[0m \u001b[38;5;28;01mexcept\u001b[39;00m \u001b[38;5;167;01mException\u001b[39;00m \u001b[38;5;28;01mas\u001b[39;00m exc:\n\u001b[0;32m    136\u001b[0m     \u001b[38;5;28;01mif\u001b[39;00m publish:\n",
      "File \u001b[1;32m~\\miniconda3\\envs\\ironhack\\lib\\site-packages\\pymongo\\helpers.py:181\u001b[0m, in \u001b[0;36m_check_command_response\u001b[1;34m(response, max_wire_version, allowable_errors, parse_write_concern_error)\u001b[0m\n\u001b[0;32m    178\u001b[0m \u001b[38;5;28;01melif\u001b[39;00m code \u001b[38;5;241m==\u001b[39m \u001b[38;5;241m43\u001b[39m:\n\u001b[0;32m    179\u001b[0m     \u001b[38;5;28;01mraise\u001b[39;00m CursorNotFound(errmsg, code, response, max_wire_version)\n\u001b[1;32m--> 181\u001b[0m \u001b[38;5;28;01mraise\u001b[39;00m OperationFailure(errmsg, code, response, max_wire_version)\n",
      "\u001b[1;31mOperationFailure\u001b[0m: error processing query: ns=ironhack.CrunchbaseTree: $and\n    $or\n        category_code regex /design/\n        description regex /design/\n        tag_list regex /design/\n    GEONEAR  field=location maxdist=2000 isNearSphere=0\nSort: {}\nProj: { _id: 0 }\n planner returned error :: caused by :: unable to find index for $geoNear query, full error: {'ok': 0.0, 'errmsg': 'error processing query: ns=ironhack.CrunchbaseTree: $and\\n    $or\\n        category_code regex /design/\\n        description regex /design/\\n        tag_list regex /design/\\n    GEONEAR  field=location maxdist=2000 isNearSphere=0\\nSort: {}\\nProj: { _id: 0 }\\n planner returned error :: caused by :: unable to find index for $geoNear query', 'code': 291, 'codeName': 'NoQueryExecutionPlans'}"
     ]
    }
   ],
   "source": [
    "result_design= get_closeby_things (location11, max_distance)\n"
   ]
  },
  {
   "cell_type": "code",
   "execution_count": null,
   "id": "818031d5",
   "metadata": {},
   "outputs": [],
   "source": []
  },
  {
   "cell_type": "code",
   "execution_count": null,
   "id": "b246e9e7",
   "metadata": {},
   "outputs": [],
   "source": []
  },
  {
   "cell_type": "code",
   "execution_count": null,
   "id": "7ce7d812",
   "metadata": {},
   "outputs": [],
   "source": []
  },
  {
   "cell_type": "code",
   "execution_count": null,
   "id": "e08077e6",
   "metadata": {},
   "outputs": [],
   "source": []
  },
  {
   "cell_type": "code",
   "execution_count": 162,
   "id": "5a7ab738",
   "metadata": {},
   "outputs": [
    {
     "data": {
      "text/plain": [
       "True"
      ]
     },
     "execution_count": 162,
     "metadata": {},
     "output_type": "execute_result"
    }
   ],
   "source": [
    "load_dotenv()"
   ]
  },
  {
   "cell_type": "code",
   "execution_count": 163,
   "id": "28cd3eaa",
   "metadata": {},
   "outputs": [],
   "source": [
    "token_for_foursquare = os.getenv(\"API_Key\")"
   ]
  },
  {
   "cell_type": "code",
   "execution_count": null,
   "id": "44f45933",
   "metadata": {},
   "outputs": [],
   "source": []
  },
  {
   "cell_type": "code",
   "execution_count": 180,
   "id": "a1b66002",
   "metadata": {},
   "outputs": [],
   "source": [
    "def get_results_from_foursquare (query, location, limit=1):\n",
    "    \n",
    "    ll = f\"{location[0]}%2C{location[1]}\"\n",
    "    url = f\"https://api.foursquare.com/v3/places/search?query={query}&ll={ll}&limit={str(limit)}\"\n",
    "\n",
    "    headers = {\n",
    "        \"accept\": \"application/json\",\n",
    "        \"Authorization\": token_for_foursquare,\n",
    "    }\n",
    "    \n",
    "    response = requests.get(url, headers=headers).json()\n",
    "    \n",
    "    return response"
   ]
  },
  {
   "cell_type": "markdown",
   "id": "dbdca12f",
   "metadata": {},
   "source": [
    "# QUERY = PARK"
   ]
  },
  {
   "cell_type": "code",
   "execution_count": 236,
   "id": "13cc615d",
   "metadata": {},
   "outputs": [],
   "source": [
    "query_10 = \"park\""
   ]
  },
  {
   "cell_type": "code",
   "execution_count": 237,
   "id": "15e4ac27",
   "metadata": {},
   "outputs": [],
   "source": [
    "location=[47.603122, -122.333253]"
   ]
  },
  {
   "cell_type": "code",
   "execution_count": 238,
   "id": "369b0ddf",
   "metadata": {},
   "outputs": [],
   "source": [
    "response_park = get_results_from_foursquare(query_10,location)"
   ]
  },
  {
   "cell_type": "code",
   "execution_count": 239,
   "id": "2f81e913",
   "metadata": {},
   "outputs": [
    {
     "name": "stdout",
     "output_type": "stream",
     "text": [
      "1868\n",
      "[47.592823, -122.316914]\n",
      "1635 11th Ave W\n",
      "Cal Anderson Park\n"
     ]
    }
   ],
   "source": [
    "latitude = response_park[\"results\"][0][\"geocodes\"][\"main\"][\"latitude\"]\n",
    "longitude = response_park[\"results\"][0][\"geocodes\"][\"main\"][\"longitude\"]\n",
    "address = response_park[\"results\"][0][\"location\"][\"address\"]\n",
    "name = response_park[\"results\"][0][\"name\"]\n",
    "distance = response_park[\"results\"][0]['distance']\n",
    "\n",
    "\n",
    "print(distance)\n",
    "print(coord1)\n",
    "print(address)\n",
    "print(name)"
   ]
  },
  {
   "cell_type": "code",
   "execution_count": null,
   "id": "32435204",
   "metadata": {},
   "outputs": [],
   "source": [
    "# Do the same thing: limit=50\n",
    "\n",
    "all_parks = get_results_from_foursquare (query_10, location, limit=50)"
   ]
  },
  {
   "cell_type": "code",
   "execution_count": null,
   "id": "40b35e93",
   "metadata": {},
   "outputs": [],
   "source": [
    "new_list_park = []\n",
    "for i in all_parks[\"results\"]:\n",
    "    \n",
    "    name = i[\"name\"]\n",
    "    address =  i[\"location\"][\"formatted_address\"]\n",
    "    lat = i[\"geocodes\"][\"main\"][\"latitude\"]\n",
    "    lon = i[\"geocodes\"][\"main\"][\"longitude\"]\n",
    "        \n",
    "    type_ = {\"typepoint\": \n",
    "                          {\"type\": \"Point\", \n",
    "                           \"coordinates\": [lat, lon]}}\n",
    "    \n",
    "    new_list_park.append({\"name\":name, \"lat\":lat, \"lon\":lon, \"type\":type_})\n",
    "    \n",
    "new_list_park[:1]"
   ]
  },
  {
   "cell_type": "markdown",
   "id": "fb4c579d",
   "metadata": {},
   "source": [
    "# QUERY = Schools"
   ]
  },
  {
   "cell_type": "code",
   "execution_count": 240,
   "id": "518cd3d0",
   "metadata": {},
   "outputs": [],
   "source": [
    "query_11 = \"school\""
   ]
  },
  {
   "cell_type": "code",
   "execution_count": 187,
   "id": "c907fc83",
   "metadata": {},
   "outputs": [],
   "source": [
    "location=[47.603122, -122.333253]"
   ]
  },
  {
   "cell_type": "code",
   "execution_count": 241,
   "id": "78185d56",
   "metadata": {},
   "outputs": [],
   "source": [
    "response_school = get_results_from_foursquare(query_11,location)"
   ]
  },
  {
   "cell_type": "code",
   "execution_count": 242,
   "id": "07f17bb3",
   "metadata": {},
   "outputs": [
    {
     "name": "stdout",
     "output_type": "stream",
     "text": [
      "4672\n",
      "[47.592823, -122.316914]\n",
      "2619 4th Ave N\n",
      "Seattle Country Day School\n"
     ]
    }
   ],
   "source": [
    "latitude = response_school[\"results\"][0][\"geocodes\"][\"main\"][\"latitude\"]\n",
    "longitude = response_school[\"results\"][0][\"geocodes\"][\"main\"][\"longitude\"]\n",
    "address = response_school[\"results\"][0][\"location\"][\"address\"]\n",
    "name = response_school[\"results\"][0][\"name\"]\n",
    "distance = response_school[\"results\"][0]['distance']\n",
    "\n",
    "\n",
    "print(distance)\n",
    "print(coord1)\n",
    "print(address)\n",
    "print(name)"
   ]
  },
  {
   "cell_type": "code",
   "execution_count": null,
   "id": "04a846fd",
   "metadata": {},
   "outputs": [],
   "source": []
  },
  {
   "cell_type": "markdown",
   "id": "70933d21",
   "metadata": {},
   "source": [
    "# QUERY = Airports"
   ]
  },
  {
   "cell_type": "code",
   "execution_count": 291,
   "id": "b7c20b6b",
   "metadata": {},
   "outputs": [],
   "source": [
    "query_50 = \"Airports\""
   ]
  },
  {
   "cell_type": "code",
   "execution_count": 292,
   "id": "8f53cf35",
   "metadata": {},
   "outputs": [],
   "source": [
    "location=[47.9081441,-122.3514318]"
   ]
  },
  {
   "cell_type": "code",
   "execution_count": 295,
   "id": "0af1de9b",
   "metadata": {},
   "outputs": [
    {
     "data": {
      "text/plain": [
       "{'results': [{'fsq_id': '453bfd7ef964a520083c1fe3',\n",
       "   'categories': [{'id': 19031,\n",
       "     'name': 'Airport',\n",
       "     'icon': {'prefix': 'https://ss3.4sqi.net/img/categories_v2/travel/airport_',\n",
       "      'suffix': '.png'}}],\n",
       "   'chains': [],\n",
       "   'distance': 5473,\n",
       "   'geocodes': {'main': {'latitude': 47.907874, 'longitude': -122.277689},\n",
       "    'roof': {'latitude': 47.907874, 'longitude': -122.277689}},\n",
       "   'link': '/v3/places/453bfd7ef964a520083c1fe3',\n",
       "   'location': {'address': '3220 100th St SW',\n",
       "    'address_extended': 'Ste A',\n",
       "    'census_block': '530610419011006',\n",
       "    'country': 'US',\n",
       "    'dma': 'Seattle-Tacoma',\n",
       "    'formatted_address': '3220 100th St SW, Everett, WA 98204',\n",
       "    'locality': 'Everett',\n",
       "    'postcode': '98204',\n",
       "    'region': 'WA'},\n",
       "   'name': 'Snohomish County Airport (PAE)',\n",
       "   'related_places': {'children': [{'fsq_id': '4e5177322271a1bdc3fb027c',\n",
       "      'name': 'Air Traffic Control Tower'},\n",
       "     {'fsq_id': '518e941e498e540694ef6bda', 'name': 'Helicopters Northwest'},\n",
       "     {'fsq_id': '4f0b9e01e4b0cdfb01fda985', 'name': 'Castle & Cooke Aviation'},\n",
       "     {'fsq_id': '4bd75d3935aad13a44b88ef3', 'name': 'Boeing'},\n",
       "     {'fsq_id': '5c7aef1aa35dce002c9ce16f', 'name': 'Passenger Terminal'},\n",
       "     {'fsq_id': '4c547db21b46c9b60666aece', 'name': 'Regal Air'}]},\n",
       "   'timezone': 'America/Los_Angeles'}],\n",
       " 'context': {'geo_bounds': {'circle': {'center': {'latitude': 47.9081441,\n",
       "     'longitude': -122.3514318},\n",
       "    'radius': 22000}}}}"
      ]
     },
     "execution_count": 295,
     "metadata": {},
     "output_type": "execute_result"
    }
   ],
   "source": [
    "response_park = get_results_from_foursquare(query_50,location)\n",
    "response_park"
   ]
  },
  {
   "cell_type": "code",
   "execution_count": 294,
   "id": "58b101db",
   "metadata": {
    "scrolled": false
   },
   "outputs": [
    {
     "name": "stdout",
     "output_type": "stream",
     "text": [
      "5473\n",
      "[47.592823, -122.316914]\n",
      "3220 100th St SW\n",
      "Snohomish County Airport (PAE)\n"
     ]
    }
   ],
   "source": [
    "latitude = response_park[\"results\"][0][\"geocodes\"][\"main\"][\"latitude\"]\n",
    "longitude = response_park[\"results\"][0][\"geocodes\"][\"main\"][\"longitude\"]\n",
    "address = response_park[\"results\"][0][\"location\"][\"address\"]\n",
    "name = response_park[\"results\"][0][\"name\"]\n",
    "distance = response_park[\"results\"][0]['distance']\n",
    "\n",
    "\n",
    "print(distance)\n",
    "print(coord1)\n",
    "print(address)\n",
    "print(name)"
   ]
  },
  {
   "cell_type": "markdown",
   "id": "7d2ecdcf",
   "metadata": {},
   "source": [
    "# QUERY = Schools"
   ]
  },
  {
   "cell_type": "code",
   "execution_count": 240,
   "id": "59b71bbb",
   "metadata": {},
   "outputs": [],
   "source": [
    "query_11 = \"school\""
   ]
  },
  {
   "cell_type": "code",
   "execution_count": 187,
   "id": "80b14601",
   "metadata": {},
   "outputs": [],
   "source": [
    "location=[47.603122, -122.333253]"
   ]
  },
  {
   "cell_type": "code",
   "execution_count": 241,
   "id": "89a9970e",
   "metadata": {},
   "outputs": [],
   "source": [
    "response_park = get_results_from_foursquare(query_11,location)"
   ]
  },
  {
   "cell_type": "code",
   "execution_count": 242,
   "id": "5bdb3bb1",
   "metadata": {},
   "outputs": [
    {
     "name": "stdout",
     "output_type": "stream",
     "text": [
      "4672\n",
      "[47.592823, -122.316914]\n",
      "2619 4th Ave N\n",
      "Seattle Country Day School\n"
     ]
    }
   ],
   "source": [
    "latitude = response_park[\"results\"][0][\"geocodes\"][\"main\"][\"latitude\"]\n",
    "longitude = response_park[\"results\"][0][\"geocodes\"][\"main\"][\"longitude\"]\n",
    "address = response_park[\"results\"][0][\"location\"][\"address\"]\n",
    "name = response_park[\"results\"][0][\"name\"]\n",
    "distance = response_park[\"results\"][0]['distance']\n",
    "\n",
    "\n",
    "print(distance)\n",
    "print(coord1)\n",
    "print(address)\n",
    "print(name)"
   ]
  },
  {
   "cell_type": "code",
   "execution_count": null,
   "id": "52874ced",
   "metadata": {},
   "outputs": [],
   "source": []
  },
  {
   "cell_type": "code",
   "execution_count": null,
   "id": "2fdaeb8e",
   "metadata": {},
   "outputs": [],
   "source": []
  },
  {
   "cell_type": "code",
   "execution_count": null,
   "id": "8d19f534",
   "metadata": {},
   "outputs": [],
   "source": []
  },
  {
   "cell_type": "code",
   "execution_count": null,
   "id": "f88fb5db",
   "metadata": {},
   "outputs": [],
   "source": [
    "response_function[\"results\"][0]"
   ]
  },
  {
   "cell_type": "code",
   "execution_count": null,
   "id": "5c31f5ec",
   "metadata": {},
   "outputs": [],
   "source": []
  },
  {
   "cell_type": "code",
   "execution_count": null,
   "id": "afaa7033",
   "metadata": {},
   "outputs": [],
   "source": []
  },
  {
   "cell_type": "code",
   "execution_count": null,
   "id": "b840250a",
   "metadata": {},
   "outputs": [],
   "source": []
  }
 ],
 "metadata": {
  "kernelspec": {
   "display_name": "ironhack",
   "language": "python",
   "name": "ironhack"
  },
  "language_info": {
   "codemirror_mode": {
    "name": "ipython",
    "version": 3
   },
   "file_extension": ".py",
   "mimetype": "text/x-python",
   "name": "python",
   "nbconvert_exporter": "python",
   "pygments_lexer": "ipython3",
   "version": "3.10.4"
  }
 },
 "nbformat": 4,
 "nbformat_minor": 5
}
