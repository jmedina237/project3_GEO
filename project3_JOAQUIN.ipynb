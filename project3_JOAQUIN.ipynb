{
 "cells": [
  {
   "cell_type": "code",
   "execution_count": 1,
   "id": "c9d2613e",
   "metadata": {},
   "outputs": [],
   "source": [
    "import pandas as pd\n",
    "from pandas import json_normalize\n",
    "\n",
    "import requests \n",
    "import json\n",
    "import os\n",
    "from dotenv import load_dotenv\n"
   ]
  },
  {
   "cell_type": "code",
   "execution_count": 2,
   "id": "5a7ab738",
   "metadata": {},
   "outputs": [
    {
     "data": {
      "text/plain": [
       "True"
      ]
     },
     "execution_count": 2,
     "metadata": {},
     "output_type": "execute_result"
    }
   ],
   "source": [
    "load_dotenv()"
   ]
  },
  {
   "cell_type": "code",
   "execution_count": 10,
   "id": "28cd3eaa",
   "metadata": {},
   "outputs": [],
   "source": [
    "token_for_foursquare = os.getenv(\"API_Key\")"
   ]
  },
  {
   "cell_type": "code",
   "execution_count": 7,
   "id": "49bf12fa",
   "metadata": {},
   "outputs": [],
   "source": [
    "query = \"cafetería\""
   ]
  },
  {
   "cell_type": "code",
   "execution_count": null,
   "id": "fce2d620",
   "metadata": {},
   "outputs": [],
   "source": []
  },
  {
   "cell_type": "code",
   "execution_count": null,
   "id": "cd98fce0",
   "metadata": {},
   "outputs": [],
   "source": []
  },
  {
   "cell_type": "code",
   "execution_count": 55,
   "id": "a1b66002",
   "metadata": {},
   "outputs": [],
   "source": [
    "def get_results_from_foursquare (query, location, limit=1):\n",
    "    \n",
    "    ll = f\"{location[0]}%2C{location[1]}\"\n",
    "    url = f\"https://api.foursquare.com/v3/places/search?query={query}&ll={ll}&limit={str(limit)}\"\n",
    "\n",
    "    headers = {\n",
    "        \"accept\": \"application/json\",\n",
    "        \"Authorization\": token_for_foursquare,\n",
    "    }\n",
    "    \n",
    "    response = requests.get(url, headers=headers).json()\n",
    "    \n",
    "    return response"
   ]
  },
  {
   "cell_type": "code",
   "execution_count": 56,
   "id": "45257dc3",
   "metadata": {},
   "outputs": [],
   "source": [
    "location = [41.3977777, 2.1882621]"
   ]
  },
  {
   "cell_type": "code",
   "execution_count": 57,
   "id": "13cc615d",
   "metadata": {},
   "outputs": [],
   "source": [
    "query = \"cafeteria\""
   ]
  },
  {
   "cell_type": "code",
   "execution_count": 58,
   "id": "8ab4040a",
   "metadata": {},
   "outputs": [],
   "source": [
    "response_function = get_results_from_foursquare(query, location )"
   ]
  },
  {
   "cell_type": "code",
   "execution_count": 64,
   "id": "f88fb5db",
   "metadata": {},
   "outputs": [
    {
     "data": {
      "text/plain": [
       "{'fsq_id': '619b423c52dcb37fe9fa5347',\n",
       " 'categories': [{'id': 13034,\n",
       "   'name': 'Café',\n",
       "   'icon': {'prefix': 'https://ss3.4sqi.net/img/categories_v2/food/cafe_',\n",
       "    'suffix': '.png'}}],\n",
       " 'chains': [],\n",
       " 'distance': 1164,\n",
       " 'geocodes': {'main': {'latitude': 41.408225, 'longitude': 2.187253}},\n",
       " 'link': '/v3/places/619b423c52dcb37fe9fa5347',\n",
       " 'location': {'address': 'Avinguda Meridiana, 116-120',\n",
       "  'admin_region': 'Cataluña',\n",
       "  'country': 'ES',\n",
       "  'cross_street': '',\n",
       "  'formatted_address': 'Avinguda Meridiana, 116-120, 08018 Barcelona Catalonia',\n",
       "  'locality': 'Barcelona',\n",
       "  'postcode': '08018',\n",
       "  'region': 'Catalonia'},\n",
       " 'name': 'Cafeteria 365',\n",
       " 'related_places': {},\n",
       " 'timezone': 'Europe/Madrid'}"
      ]
     },
     "execution_count": 64,
     "metadata": {},
     "output_type": "execute_result"
    }
   ],
   "source": [
    "response_function[\"results\"][0]"
   ]
  },
  {
   "cell_type": "code",
   "execution_count": null,
   "id": "5c31f5ec",
   "metadata": {},
   "outputs": [],
   "source": []
  },
  {
   "cell_type": "code",
   "execution_count": null,
   "id": "afaa7033",
   "metadata": {},
   "outputs": [],
   "source": []
  },
  {
   "cell_type": "code",
   "execution_count": null,
   "id": "b840250a",
   "metadata": {},
   "outputs": [],
   "source": []
  }
 ],
 "metadata": {
  "kernelspec": {
   "display_name": "ironhack",
   "language": "python",
   "name": "ironhack"
  },
  "language_info": {
   "codemirror_mode": {
    "name": "ipython",
    "version": 3
   },
   "file_extension": ".py",
   "mimetype": "text/x-python",
   "name": "python",
   "nbconvert_exporter": "python",
   "pygments_lexer": "ipython3",
   "version": "3.10.4"
  }
 },
 "nbformat": 4,
 "nbformat_minor": 5
}
