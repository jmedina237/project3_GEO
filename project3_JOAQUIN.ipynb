{
 "cells": [
  {
   "cell_type": "code",
   "execution_count": 3,
   "id": "c9d2613e",
   "metadata": {},
   "outputs": [],
   "source": [
    "import pandas as pd\n",
    "from pandas import json_normalize\n",
    "\n",
    "import requests \n",
    "import json\n",
    "import os\n",
    "from dotenv import load_dotenv\n",
    "\n",
    "from pymongo import MongoClient\n",
    "import pandas as pd"
   ]
  },
  {
   "cell_type": "code",
   "execution_count": 12,
   "id": "a90a3ef0",
   "metadata": {},
   "outputs": [],
   "source": [
    "client = MongoClient(\"localhost:27017\")\n",
    "db = client[\"ironhack\"]\n",
    "c = db.get_collection(\"Crunchbase\")"
   ]
  },
  {
   "cell_type": "markdown",
   "id": "89ac878b",
   "metadata": {},
   "source": [
    "filter with regex \"desing\", 'total_money_raised', \"offices[0].country_code\""
   ]
  },
  {
   "cell_type": "code",
   "execution_count": 48,
   "id": "d01cc999",
   "metadata": {},
   "outputs": [],
   "source": [
    "filter_1 = {\"description\": {\"$regex\": \"design\"}}\n",
    "filter_2 = {\"tag_list\": {\"$regex\": \"design\"}}\n",
    "filter_3 = {\"name\": {\"$regex\": \"design\"}}\n",
    "filter_4 = {\"category_code\": {\"$regex\": \"design\"}}\n",
    "filter_5 = {\"total_money_raised\": {\"$regex\": \"M\"}}\n",
    "filter_6 = {\"total_money_raised\": {\"$regex\": \"B\"}}\n",
    "\n",
    "\n",
    "all_conditions = [filter_1, filter_2, filter_3, filter_4, filter_5, filter_6]"
   ]
  },
  {
   "cell_type": "code",
   "execution_count": 51,
   "id": "8d880724",
   "metadata": {},
   "outputs": [
    {
     "data": {
      "text/plain": [
       "54"
      ]
     },
     "execution_count": 51,
     "metadata": {},
     "output_type": "execute_result"
    }
   ],
   "source": [
    "projection = {\"name\": 1, \"number_of_employees\": 1, \"total_money_raised\": 1,\"offices.country_code\": 1,\"offices.city\": 1, \"_id\":0}\n",
    "result_gaming = list(c.find({\"$or\": all_conditions,\n",
    "                \"number_of_employees\": {\"$gte\": 1000 }}, projection))\n",
    "\n",
    "len(result_gaming)"
   ]
  },
  {
   "cell_type": "code",
   "execution_count": null,
   "id": "6dc6db7a",
   "metadata": {},
   "outputs": [],
   "source": []
  },
  {
   "cell_type": "code",
   "execution_count": null,
   "id": "e9aad607",
   "metadata": {},
   "outputs": [],
   "source": []
  },
  {
   "cell_type": "code",
   "execution_count": null,
   "id": "e77d08fc",
   "metadata": {},
   "outputs": [],
   "source": []
  },
  {
   "cell_type": "code",
   "execution_count": null,
   "id": "b5a691aa",
   "metadata": {},
   "outputs": [],
   "source": []
  },
  {
   "cell_type": "code",
   "execution_count": null,
   "id": "c5194cf9",
   "metadata": {},
   "outputs": [],
   "source": []
  },
  {
   "cell_type": "code",
   "execution_count": null,
   "id": "89e1190a",
   "metadata": {},
   "outputs": [],
   "source": []
  },
  {
   "cell_type": "code",
   "execution_count": null,
   "id": "99ca2812",
   "metadata": {},
   "outputs": [],
   "source": []
  },
  {
   "cell_type": "code",
   "execution_count": 2,
   "id": "5a7ab738",
   "metadata": {},
   "outputs": [
    {
     "data": {
      "text/plain": [
       "True"
      ]
     },
     "execution_count": 2,
     "metadata": {},
     "output_type": "execute_result"
    }
   ],
   "source": [
    "load_dotenv()"
   ]
  },
  {
   "cell_type": "code",
   "execution_count": 10,
   "id": "28cd3eaa",
   "metadata": {},
   "outputs": [],
   "source": [
    "token_for_foursquare = os.getenv(\"API_Key\")"
   ]
  },
  {
   "cell_type": "code",
   "execution_count": 7,
   "id": "49bf12fa",
   "metadata": {},
   "outputs": [],
   "source": [
    "query = \"\""
   ]
  },
  {
   "cell_type": "code",
   "execution_count": null,
   "id": "fce2d620",
   "metadata": {},
   "outputs": [],
   "source": [
    "'''STARTING THE PROJECT\n",
    "\n",
    ":uno: Explore database & filter it\n",
    "\n",
    ":dos: Explore how to query (no matter city yet):\n",
    "\n",
    "Create small function to query starbucks (limit=1, city=whichever)\n",
    "Small function to query something else (limit=1, city=whichever)\n",
    "Maybe these two can be the same and it’s just a matter of parametrization?\n",
    "and so on :cara_ligeramente_sonriente:\n",
    ":tres: Focus on getting one thing at a time: you’ll scale things up later on\n",
    "It’s about making decisions. Try to justify them with data as much as you can, but it’s okay as some of them you’ll have to make a bit randomly.\n",
    "Goal of the project is:\n",
    "Querying a database\n",
    "Extracting information through an API\n",
    "Loading that information back into a database\n",
    "Aggregate and explore by: doing geoqueries\n",
    "Visualize using maps :mapamundi:'''"
   ]
  },
  {
   "cell_type": "code",
   "execution_count": null,
   "id": "cd98fce0",
   "metadata": {},
   "outputs": [],
   "source": [
    "data = {'Priorization Factor': ['Tom', 'Jack', 'nick', 'juli'],\n",
    "        'marks': [99, 98, 95, 90]}\n",
    "  \n",
    "\n",
    "\n",
    "df_info = pd.DataFrame(data, index=['Design companies nearby', \n",
    "                                    '30% of staff have childs',\n",
    "                                    'Near successful tech startups',\n",
    "                                    'Starbucks not too far',\n",
    "                                    'Account managers need to travel a lot',\n",
    "                                    'Place to go party',\n",
    "                                    'The CEO is vegan',\n",
    "                                    'A basketball stadium must be around 10 Km',\n",
    "                                    'Dog hairdresser not too far']\n",
    "                       "
   ]
  },
  {
   "cell_type": "code",
   "execution_count": null,
   "id": "0ec21741",
   "metadata": {},
   "outputs": [],
   "source": [
    "filter_ = {\"type_of_food\":\"Thai\"}\n",
    "projection = {\"name\":1, \"_id\":0}\n",
    "\n",
    "result = list(c.find(filter_, projection))\n",
    "result[:4]"
   ]
  },
  {
   "cell_type": "code",
   "execution_count": null,
   "id": "64e056c9",
   "metadata": {},
   "outputs": [],
   "source": []
  },
  {
   "cell_type": "code",
   "execution_count": null,
   "id": "4864b406",
   "metadata": {},
   "outputs": [],
   "source": []
  },
  {
   "cell_type": "code",
   "execution_count": null,
   "id": "6883fc4e",
   "metadata": {},
   "outputs": [],
   "source": []
  },
  {
   "cell_type": "code",
   "execution_count": null,
   "id": "c75e9ec8",
   "metadata": {},
   "outputs": [],
   "source": []
  },
  {
   "cell_type": "code",
   "execution_count": null,
   "id": "ae3b7a75",
   "metadata": {},
   "outputs": [],
   "source": []
  },
  {
   "cell_type": "code",
   "execution_count": null,
   "id": "7b5f5d1b",
   "metadata": {},
   "outputs": [],
   "source": []
  },
  {
   "cell_type": "code",
   "execution_count": null,
   "id": "44f45933",
   "metadata": {},
   "outputs": [],
   "source": []
  },
  {
   "cell_type": "code",
   "execution_count": 55,
   "id": "a1b66002",
   "metadata": {},
   "outputs": [],
   "source": [
    "def get_results_from_foursquare (query, location, limit=1):\n",
    "    \n",
    "    ll = f\"{location[0]}%2C{location[1]}\"\n",
    "    url = f\"https://api.foursquare.com/v3/places/search?query={query}&ll={ll}&limit={str(limit)}\"\n",
    "\n",
    "    headers = {\n",
    "        \"accept\": \"application/json\",\n",
    "        \"Authorization\": token_for_foursquare,\n",
    "    }\n",
    "    \n",
    "    response = requests.get(url, headers=headers).json()\n",
    "    \n",
    "    return response"
   ]
  },
  {
   "cell_type": "code",
   "execution_count": 56,
   "id": "45257dc3",
   "metadata": {},
   "outputs": [],
   "source": [
    "location = [41.3977777, 2.1882621]"
   ]
  },
  {
   "cell_type": "code",
   "execution_count": 57,
   "id": "13cc615d",
   "metadata": {},
   "outputs": [],
   "source": [
    "query = \"starbuck\""
   ]
  },
  {
   "cell_type": "code",
   "execution_count": 58,
   "id": "8ab4040a",
   "metadata": {},
   "outputs": [],
   "source": [
    "response_function = get_results_from_foursquare(query, location )"
   ]
  },
  {
   "cell_type": "code",
   "execution_count": 64,
   "id": "f88fb5db",
   "metadata": {},
   "outputs": [
    {
     "data": {
      "text/plain": [
       "{'fsq_id': '619b423c52dcb37fe9fa5347',\n",
       " 'categories': [{'id': 13034,\n",
       "   'name': 'Café',\n",
       "   'icon': {'prefix': 'https://ss3.4sqi.net/img/categories_v2/food/cafe_',\n",
       "    'suffix': '.png'}}],\n",
       " 'chains': [],\n",
       " 'distance': 1164,\n",
       " 'geocodes': {'main': {'latitude': 41.408225, 'longitude': 2.187253}},\n",
       " 'link': '/v3/places/619b423c52dcb37fe9fa5347',\n",
       " 'location': {'address': 'Avinguda Meridiana, 116-120',\n",
       "  'admin_region': 'Cataluña',\n",
       "  'country': 'ES',\n",
       "  'cross_street': '',\n",
       "  'formatted_address': 'Avinguda Meridiana, 116-120, 08018 Barcelona Catalonia',\n",
       "  'locality': 'Barcelona',\n",
       "  'postcode': '08018',\n",
       "  'region': 'Catalonia'},\n",
       " 'name': 'Cafeteria 365',\n",
       " 'related_places': {},\n",
       " 'timezone': 'Europe/Madrid'}"
      ]
     },
     "execution_count": 64,
     "metadata": {},
     "output_type": "execute_result"
    }
   ],
   "source": [
    "response_function[\"results\"][0]"
   ]
  },
  {
   "cell_type": "code",
   "execution_count": null,
   "id": "5c31f5ec",
   "metadata": {},
   "outputs": [],
   "source": []
  },
  {
   "cell_type": "code",
   "execution_count": null,
   "id": "afaa7033",
   "metadata": {},
   "outputs": [],
   "source": []
  },
  {
   "cell_type": "code",
   "execution_count": null,
   "id": "b840250a",
   "metadata": {},
   "outputs": [],
   "source": []
  }
 ],
 "metadata": {
  "kernelspec": {
   "display_name": "ironhack",
   "language": "python",
   "name": "ironhack"
  },
  "language_info": {
   "codemirror_mode": {
    "name": "ipython",
    "version": 3
   },
   "file_extension": ".py",
   "mimetype": "text/x-python",
   "name": "python",
   "nbconvert_exporter": "python",
   "pygments_lexer": "ipython3",
   "version": "3.10.4"
  }
 },
 "nbformat": 4,
 "nbformat_minor": 5
}
